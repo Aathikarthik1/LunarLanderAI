{
  "cells": [
    {
      "cell_type": "markdown",
      "metadata": {
        "id": "view-in-github",
        "colab_type": "text"
      },
      "source": [
        "<a href=\"https://colab.research.google.com/github/Aathikarthik1/LunarLanderAI/blob/main/Deep_Q_LearningIntuition_For_Lunar_Landing_Complete_Code.ipynb\" target=\"_parent\"><img src=\"https://colab.research.google.com/assets/colab-badge.svg\" alt=\"Open In Colab\"/></a>"
      ]
    },
    {
      "cell_type": "code",
      "execution_count": null,
      "metadata": {
        "id": "alKmo4HfWKjt",
        "colab": {
          "base_uri": "https://localhost:8080/"
        },
        "outputId": "75d886b6-a899-4dbf-f01e-ef72b62caf4f"
      },
      "outputs": [
        {
          "output_type": "stream",
          "name": "stdout",
          "text": [
            "Collecting gymnasium\n",
            "  Downloading gymnasium-0.29.1-py3-none-any.whl (953 kB)\n",
            "\u001b[2K     \u001b[90m━━━━━━━━━━━━━━━━━━━━━━━━━━━━━━━━━━━━━━━━\u001b[0m \u001b[32m953.9/953.9 kB\u001b[0m \u001b[31m5.4 MB/s\u001b[0m eta \u001b[36m0:00:00\u001b[0m\n",
            "\u001b[?25hRequirement already satisfied: numpy>=1.21.0 in /usr/local/lib/python3.10/dist-packages (from gymnasium) (1.25.2)\n",
            "Requirement already satisfied: cloudpickle>=1.2.0 in /usr/local/lib/python3.10/dist-packages (from gymnasium) (2.2.1)\n",
            "Requirement already satisfied: typing-extensions>=4.3.0 in /usr/local/lib/python3.10/dist-packages (from gymnasium) (4.12.2)\n",
            "Collecting farama-notifications>=0.0.1 (from gymnasium)\n",
            "  Downloading Farama_Notifications-0.0.4-py3-none-any.whl (2.5 kB)\n",
            "Installing collected packages: farama-notifications, gymnasium\n",
            "Successfully installed farama-notifications-0.0.4 gymnasium-0.29.1\n",
            "Requirement already satisfied: gymnasium[accept-rom-license,atari] in /usr/local/lib/python3.10/dist-packages (0.29.1)\n",
            "Requirement already satisfied: numpy>=1.21.0 in /usr/local/lib/python3.10/dist-packages (from gymnasium[accept-rom-license,atari]) (1.25.2)\n",
            "Requirement already satisfied: cloudpickle>=1.2.0 in /usr/local/lib/python3.10/dist-packages (from gymnasium[accept-rom-license,atari]) (2.2.1)\n",
            "Requirement already satisfied: typing-extensions>=4.3.0 in /usr/local/lib/python3.10/dist-packages (from gymnasium[accept-rom-license,atari]) (4.12.2)\n",
            "Requirement already satisfied: farama-notifications>=0.0.1 in /usr/local/lib/python3.10/dist-packages (from gymnasium[accept-rom-license,atari]) (0.0.4)\n",
            "Collecting autorom[accept-rom-license]~=0.4.2 (from gymnasium[accept-rom-license,atari])\n",
            "  Downloading AutoROM-0.4.2-py3-none-any.whl (16 kB)\n",
            "Collecting shimmy[atari]<1.0,>=0.1.0 (from gymnasium[accept-rom-license,atari])\n",
            "  Downloading Shimmy-0.2.1-py3-none-any.whl (25 kB)\n",
            "Requirement already satisfied: click in /usr/local/lib/python3.10/dist-packages (from autorom[accept-rom-license]~=0.4.2->gymnasium[accept-rom-license,atari]) (8.1.7)\n",
            "Requirement already satisfied: requests in /usr/local/lib/python3.10/dist-packages (from autorom[accept-rom-license]~=0.4.2->gymnasium[accept-rom-license,atari]) (2.31.0)\n",
            "Requirement already satisfied: tqdm in /usr/local/lib/python3.10/dist-packages (from autorom[accept-rom-license]~=0.4.2->gymnasium[accept-rom-license,atari]) (4.66.4)\n",
            "Collecting AutoROM.accept-rom-license (from autorom[accept-rom-license]~=0.4.2->gymnasium[accept-rom-license,atari])\n",
            "  Downloading AutoROM.accept-rom-license-0.6.1.tar.gz (434 kB)\n",
            "\u001b[2K     \u001b[90m━━━━━━━━━━━━━━━━━━━━━━━━━━━━━━━━━━━━━━━━\u001b[0m \u001b[32m434.7/434.7 kB\u001b[0m \u001b[31m6.8 MB/s\u001b[0m eta \u001b[36m0:00:00\u001b[0m\n",
            "\u001b[?25h  Installing build dependencies ... \u001b[?25l\u001b[?25hdone\n",
            "  Getting requirements to build wheel ... \u001b[?25l\u001b[?25hdone\n",
            "  Preparing metadata (pyproject.toml) ... \u001b[?25l\u001b[?25hdone\n",
            "Collecting ale-py~=0.8.1 (from shimmy[atari]<1.0,>=0.1.0->gymnasium[accept-rom-license,atari])\n",
            "  Downloading ale_py-0.8.1-cp310-cp310-manylinux_2_17_x86_64.manylinux2014_x86_64.whl (1.7 MB)\n",
            "\u001b[2K     \u001b[90m━━━━━━━━━━━━━━━━━━━━━━━━━━━━━━━━━━━━━━━━\u001b[0m \u001b[32m1.7/1.7 MB\u001b[0m \u001b[31m12.7 MB/s\u001b[0m eta \u001b[36m0:00:00\u001b[0m\n",
            "\u001b[?25hRequirement already satisfied: importlib-resources in /usr/local/lib/python3.10/dist-packages (from ale-py~=0.8.1->shimmy[atari]<1.0,>=0.1.0->gymnasium[accept-rom-license,atari]) (6.4.0)\n",
            "Requirement already satisfied: charset-normalizer<4,>=2 in /usr/local/lib/python3.10/dist-packages (from requests->autorom[accept-rom-license]~=0.4.2->gymnasium[accept-rom-license,atari]) (3.3.2)\n",
            "Requirement already satisfied: idna<4,>=2.5 in /usr/local/lib/python3.10/dist-packages (from requests->autorom[accept-rom-license]~=0.4.2->gymnasium[accept-rom-license,atari]) (3.7)\n",
            "Requirement already satisfied: urllib3<3,>=1.21.1 in /usr/local/lib/python3.10/dist-packages (from requests->autorom[accept-rom-license]~=0.4.2->gymnasium[accept-rom-license,atari]) (2.0.7)\n",
            "Requirement already satisfied: certifi>=2017.4.17 in /usr/local/lib/python3.10/dist-packages (from requests->autorom[accept-rom-license]~=0.4.2->gymnasium[accept-rom-license,atari]) (2024.6.2)\n",
            "Building wheels for collected packages: AutoROM.accept-rom-license\n",
            "  Building wheel for AutoROM.accept-rom-license (pyproject.toml) ... \u001b[?25l\u001b[?25hdone\n",
            "  Created wheel for AutoROM.accept-rom-license: filename=AutoROM.accept_rom_license-0.6.1-py3-none-any.whl size=446662 sha256=0dd90b02368b3e31827ff8fa86039abf75eff5383648cf7436b05b9e6b2044f0\n",
            "  Stored in directory: /root/.cache/pip/wheels/6b/1b/ef/a43ff1a2f1736d5711faa1ba4c1f61be1131b8899e6a057811\n",
            "Successfully built AutoROM.accept-rom-license\n",
            "Installing collected packages: ale-py, shimmy, AutoROM.accept-rom-license, autorom\n",
            "Successfully installed AutoROM.accept-rom-license-0.6.1 ale-py-0.8.1 autorom-0.4.2 shimmy-0.2.1\n",
            "Reading package lists... Done\n",
            "Building dependency tree... Done\n",
            "Reading state information... Done\n",
            "The following additional packages will be installed:\n",
            "  swig4.0\n",
            "Suggested packages:\n",
            "  swig-doc swig-examples swig4.0-examples swig4.0-doc\n",
            "The following NEW packages will be installed:\n",
            "  swig swig4.0\n",
            "0 upgraded, 2 newly installed, 0 to remove and 45 not upgraded.\n",
            "Need to get 1,116 kB of archives.\n",
            "After this operation, 5,542 kB of additional disk space will be used.\n",
            "Get:1 http://archive.ubuntu.com/ubuntu jammy/universe amd64 swig4.0 amd64 4.0.2-1ubuntu1 [1,110 kB]\n",
            "Get:2 http://archive.ubuntu.com/ubuntu jammy/universe amd64 swig all 4.0.2-1ubuntu1 [5,632 B]\n",
            "Fetched 1,116 kB in 1s (759 kB/s)\n",
            "Selecting previously unselected package swig4.0.\n",
            "(Reading database ... 121925 files and directories currently installed.)\n",
            "Preparing to unpack .../swig4.0_4.0.2-1ubuntu1_amd64.deb ...\n",
            "Unpacking swig4.0 (4.0.2-1ubuntu1) ...\n",
            "Selecting previously unselected package swig.\n",
            "Preparing to unpack .../swig_4.0.2-1ubuntu1_all.deb ...\n",
            "Unpacking swig (4.0.2-1ubuntu1) ...\n",
            "Setting up swig4.0 (4.0.2-1ubuntu1) ...\n",
            "Setting up swig (4.0.2-1ubuntu1) ...\n",
            "Processing triggers for man-db (2.10.2-1) ...\n",
            "Requirement already satisfied: gymnasium[box2d] in /usr/local/lib/python3.10/dist-packages (0.29.1)\n",
            "Requirement already satisfied: numpy>=1.21.0 in /usr/local/lib/python3.10/dist-packages (from gymnasium[box2d]) (1.25.2)\n",
            "Requirement already satisfied: cloudpickle>=1.2.0 in /usr/local/lib/python3.10/dist-packages (from gymnasium[box2d]) (2.2.1)\n",
            "Requirement already satisfied: typing-extensions>=4.3.0 in /usr/local/lib/python3.10/dist-packages (from gymnasium[box2d]) (4.12.2)\n",
            "Requirement already satisfied: farama-notifications>=0.0.1 in /usr/local/lib/python3.10/dist-packages (from gymnasium[box2d]) (0.0.4)\n",
            "Collecting box2d-py==2.3.5 (from gymnasium[box2d])\n",
            "  Downloading box2d-py-2.3.5.tar.gz (374 kB)\n",
            "\u001b[2K     \u001b[90m━━━━━━━━━━━━━━━━━━━━━━━━━━━━━━━━━━━━━━━━\u001b[0m \u001b[32m374.4/374.4 kB\u001b[0m \u001b[31m8.2 MB/s\u001b[0m eta \u001b[36m0:00:00\u001b[0m\n",
            "\u001b[?25h  Preparing metadata (setup.py) ... \u001b[?25l\u001b[?25hdone\n",
            "Requirement already satisfied: pygame>=2.1.3 in /usr/local/lib/python3.10/dist-packages (from gymnasium[box2d]) (2.6.0)\n",
            "Collecting swig==4.* (from gymnasium[box2d])\n",
            "  Downloading swig-4.2.1-py2.py3-none-manylinux_2_5_x86_64.manylinux1_x86_64.whl (1.9 MB)\n",
            "\u001b[2K     \u001b[90m━━━━━━━━━━━━━━━━━━━━━━━━━━━━━━━━━━━━━━━━\u001b[0m \u001b[32m1.9/1.9 MB\u001b[0m \u001b[31m50.3 MB/s\u001b[0m eta \u001b[36m0:00:00\u001b[0m\n",
            "\u001b[?25hBuilding wheels for collected packages: box2d-py\n",
            "  Building wheel for box2d-py (setup.py) ... \u001b[?25l\u001b[?25hdone\n",
            "  Created wheel for box2d-py: filename=box2d_py-2.3.5-cp310-cp310-linux_x86_64.whl size=2349115 sha256=566ac606f4352e32c8cf385e83abab42f0ee2b709bc63decb325fce37e238058\n",
            "  Stored in directory: /root/.cache/pip/wheels/db/8f/6a/eaaadf056fba10a98d986f6dce954e6201ba3126926fc5ad9e\n",
            "Successfully built box2d-py\n",
            "Installing collected packages: swig, box2d-py\n",
            "Successfully installed box2d-py-2.3.5 swig-4.2.1\n"
          ]
        }
      ],
      "source": [
        "\n",
        "!pip install gymnasium\n",
        "!pip install \"gymnasium[atari, accept-rom-license]\"\n",
        "!apt-get install -y swig\n",
        "!pip install gymnasium[box2d]"
      ]
    },
    {
      "cell_type": "code",
      "execution_count": null,
      "metadata": {
        "id": "hr7rz3qo_fDu"
      },
      "outputs": [],
      "source": [
        "import os\n",
        "import random\n",
        "import numpy as np\n",
        "import torch\n",
        "import torch.nn as nn\n",
        "import torch.optim as optim\n",
        "import torch.nn.functional as F\n",
        "import torch.autograd as autograd\n",
        "from torch.autograd import Variable\n",
        "from collections import deque, namedtuple"
      ]
    },
    {
      "cell_type": "markdown",
      "metadata": {
        "id": "IfA8lghKEIed"
      },
      "source": [
        "BUILDING THE AI\n"
      ]
    },
    {
      "cell_type": "markdown",
      "metadata": {
        "id": "EE42uqa7Alo8"
      },
      "source": [
        "Creating the architecture of the neural network\n"
      ]
    },
    {
      "cell_type": "code",
      "execution_count": null,
      "metadata": {
        "id": "mTmEfGnsATHi"
      },
      "outputs": [],
      "source": [
        "class Network(nn.Module):\n",
        "\n",
        "  def __init__(self, state_size, action_size, seed = 42):\n",
        "    super(Network, self).__init__()\n",
        "    self.seed = torch.manual_seed(seed)\n",
        "    self.fc1 = nn.Linear(state_size, 64)\n",
        "    self.fc2 = nn.Linear(64, 64)\n",
        "    self.fc3 = nn.Linear(64, action_size)\n",
        "\n",
        "  def forward(self, state):\n",
        "    x = self.fc1(state)\n",
        "    x = F.relu(x)\n",
        "    x = self.fc2(x)\n",
        "    x = F.relu(x)\n",
        "    return self.fc3(x)"
      ]
    },
    {
      "cell_type": "markdown",
      "metadata": {
        "id": "pGuQQtgWEPuZ"
      },
      "source": [
        "TRAINING THE AI"
      ]
    },
    {
      "cell_type": "markdown",
      "metadata": {
        "id": "pf_8MbTwFNS4"
      },
      "source": [
        "Setting up the environment\n"
      ]
    },
    {
      "cell_type": "code",
      "execution_count": null,
      "metadata": {
        "id": "CdcS8jk1EEm5",
        "outputId": "34da4cc5-1bb0-4e40-a857-74a54b0c8d0b",
        "colab": {
          "base_uri": "https://localhost:8080/"
        }
      },
      "outputs": [
        {
          "output_type": "stream",
          "name": "stdout",
          "text": [
            "State shape:  (8,)\n",
            "State size:  8\n",
            "Number of actions:  4\n"
          ]
        }
      ],
      "source": [
        "import gymnasium as gym\n",
        "env = gym.make('LunarLander-v2')\n",
        "state_shape = env.observation_space.shape\n",
        "state_size = env.observation_space.shape[0]\n",
        "number_actions = env.action_space.n\n",
        "print('State shape: ', state_shape)\n",
        "print('State size: ', state_size)\n",
        "print('Number of actions: ', number_actions)"
      ]
    },
    {
      "cell_type": "markdown",
      "metadata": {
        "id": "CsaKzodBJzvH"
      },
      "source": [
        "Initializing the hyperparameters"
      ]
    },
    {
      "cell_type": "code",
      "execution_count": null,
      "metadata": {
        "id": "nGgSbgE7J440"
      },
      "outputs": [],
      "source": [
        "learning_rate = 5e-4\n",
        "minibatch_size = 100\n",
        "discount_factor = 0.99\n",
        "replay_buffer_size = int(1e5)\n",
        "interpolation_parameter = 1e-3"
      ]
    },
    {
      "cell_type": "markdown",
      "metadata": {
        "id": "su_MDpyfKxKe"
      },
      "source": [
        "Implementing Experience replay\n"
      ]
    },
    {
      "cell_type": "code",
      "execution_count": null,
      "metadata": {
        "id": "JEWH9PtsK09k"
      },
      "outputs": [],
      "source": [
        "class ReplayMemory(object):\n",
        "\n",
        "  def __init__(self, capacity):\n",
        "    self.device = torch.device(\"cuda:0\" if torch.cuda.is_available() else \"cpu\")\n",
        "    self.capacity = capacity\n",
        "    self.memory = []\n",
        "\n",
        "  def push(self, event):\n",
        "    self.memory.append(event)\n",
        "    if len(self.memory) > self.capacity:\n",
        "      del self.memory[0]\n",
        "\n",
        "  def sample(self, batch_size):\n",
        "    experiences = random.sample(self.memory, k = batch_size)\n",
        "    states = torch.from_numpy(np.vstack([e[0] for e in experiences if e is not None])).float().to(self.device)\n",
        "    actions = torch.from_numpy(np.vstack([e[1] for e in experiences if e is not None])).long().to(self.device)\n",
        "    rewards = torch.from_numpy(np.vstack([e[2] for e in experiences if e is not None])).float().to(self.device)\n",
        "    next_states = torch.from_numpy(np.vstack([e[3] for e in experiences if e is not None])).float().to(self.device)\n",
        "    dones = torch.from_numpy(np.vstack([e[4] for e in experiences if e is not None]).astype(np.uint8)).float().to(self.device)\n",
        "    return states, next_states, actions, rewards, dones"
      ]
    },
    {
      "cell_type": "markdown",
      "metadata": {
        "id": "WrQTykE3yMxx"
      },
      "source": [
        "Implementing the DQN class\n"
      ]
    },
    {
      "cell_type": "code",
      "execution_count": null,
      "metadata": {
        "id": "WpkyBId3yyVx"
      },
      "outputs": [],
      "source": [
        "class Agent():\n",
        "\n",
        "  def __init__(self, state_size, action_size):\n",
        "    self.device = torch.device(\"cuda:0\" if torch.cuda.is_available() else \"cpu\")\n",
        "    self.state_size = state_size\n",
        "    self.action_size = action_size\n",
        "    self.local_qnetwork = Network(state_size, action_size).to(self.device)\n",
        "    self.target_qnetwork = Network(state_size, action_size).to(self.device)\n",
        "    self.optimizer = optim.Adam(self.local_qnetwork.parameters(), lr = learning_rate)\n",
        "    self.memory = ReplayMemory(replay_buffer_size)\n",
        "    self.t_step = 0\n",
        "\n",
        "  def step(self, state, action, reward, next_state, done):\n",
        "    self.memory.push((state, action, reward, next_state, done))\n",
        "    self.t_step = (self.t_step + 1) % 4\n",
        "    if self.t_step == 0:\n",
        "      if len(self.memory.memory) > minibatch_size:\n",
        "        experiences = self.memory.sample(100)\n",
        "        self.learn(experiences, discount_factor)\n",
        "\n",
        "  def act(self, state, epsilon = 0.):\n",
        "    state = torch.from_numpy(state).float().unsqueeze(0).to(self.device)\n",
        "    self.local_qnetwork.eval()\n",
        "    with torch.no_grad():\n",
        "      action_values = self.local_qnetwork(state)\n",
        "    self.local_qnetwork.train()\n",
        "    if random.random() > epsilon:\n",
        "      return np.argmax(action_values.cpu().data.numpy())\n",
        "    else:\n",
        "      return random.choice(np.arange(self.action_size))\n",
        "\n",
        "  def learn(self, experiences, discount_factor):\n",
        "    states, next_states, actions, rewards, dones = experiences\n",
        "    next_q_targets = self.target_qnetwork(next_states).detach().max(1)[0].unsqueeze(1)\n",
        "    q_targets = rewards + discount_factor * next_q_targets * (1 - dones)\n",
        "    q_expected = self.local_qnetwork(states).gather(1, actions)\n",
        "    loss = F.mse_loss(q_expected, q_targets)\n",
        "    self.optimizer.zero_grad()\n",
        "    loss.backward()\n",
        "    self.optimizer.step()\n",
        "    self.soft_update(self.local_qnetwork, self.target_qnetwork, interpolation_parameter)\n",
        "\n",
        "  def soft_update(self, local_model, target_model, interpolation_parameter):\n",
        "    for target_param, local_param in zip(target_model.parameters(), local_model.parameters()):\n",
        "      target_param.data.copy_(interpolation_parameter * local_param.data + (1.0 - interpolation_parameter) * target_param.data)\n"
      ]
    },
    {
      "cell_type": "markdown",
      "metadata": {
        "id": "muWA1R5CyRM2"
      },
      "source": [
        "Implementing the DQN agent"
      ]
    },
    {
      "cell_type": "code",
      "execution_count": null,
      "metadata": {
        "id": "pVSIuJPryzOd"
      },
      "outputs": [],
      "source": [
        "agent = Agent(state_size, number_actions)\n"
      ]
    },
    {
      "cell_type": "markdown",
      "metadata": {
        "id": "I2dDS7qjydGJ"
      },
      "source": [
        "Training the DQN agent"
      ]
    },
    {
      "cell_type": "code",
      "execution_count": null,
      "metadata": {
        "colab": {
          "background_save": true
        },
        "id": "3ALQ5yePyzwF"
      },
      "outputs": [],
      "source": [
        "number_episodes = 2000\n",
        "maximum_number_timesteps_per_episode = 1000\n",
        "epsilon_starting_value  = 1.0\n",
        "epsilon_ending_value  = 0.01\n",
        "epsilon_decay_value  = 0.995\n",
        "epsilon = epsilon_starting_value\n",
        "scores_on_100_episodes = deque(maxlen = 100)\n",
        "\n",
        "for episode in range(1, number_episodes + 1):\n",
        "  state, _ = env.reset()\n",
        "  score = 0\n",
        "  for t in range(maximum_number_timesteps_per_episode):\n",
        "    action = agent.act(state, epsilon)\n",
        "    next_state, reward, done, _, _ = env.step(action)\n",
        "    agent.step(state, action, reward, next_state, done)\n",
        "    state = next_state\n",
        "    score += reward\n",
        "    if done:\n",
        "      break\n",
        "  scores_on_100_episodes.append(score)\n",
        "  epsilon = max(epsilon_ending_value, epsilon_decay_value * epsilon)\n",
        "  print('\\rEpisode {}\\tAverage Score: {:.2f}'.format(episode, np.mean(scores_on_100_episodes)), end = \"\")\n",
        "  if episode % 100 == 0:\n",
        "    print('\\rEpisode {}\\tAverage Score: {:.2f}'.format(episode, np.mean(scores_on_100_episodes)))\n",
        "  if np.mean(scores_on_100_episodes) >= 200.0:\n",
        "    print('\\nEnvironment solved in {:d} episodes!\\tAverage Score: {:.2f}'.format(episode - 100, np.mean(scores_on_100_episodes)))\n",
        "    torch.save(agent.local_qnetwork.state_dict(), 'checkpoint.pth')"
      ]
    },
    {
      "cell_type": "markdown",
      "metadata": {
        "id": "C7vfO812ykXN"
      },
      "source": [
        "Part-3\n",
        "Visualizing the result"
      ]
    },
    {
      "cell_type": "code",
      "execution_count": null,
      "metadata": {
        "colab": {
          "background_save": true
        },
        "id": "nYcFsJtSy4Kp",
        "outputId": "3a223358-ee09-4999-cd83-b05349318f39"
      },
      "outputs": [
        {
          "name": "stderr",
          "output_type": "stream",
          "text": [
            "WARNING:imageio_ffmpeg:IMAGEIO FFMPEG_WRITER WARNING: input image is not divisible by macro_block_size=16, resizing from (600, 400) to (608, 400) to ensure video compatibility with most codecs and players. To prevent resizing, make your input image divisible by the macro_block_size or set the macro_block_size to 1 (risking incompatibility).\n"
          ]
        },
        {
          "data": {
            "text/html": [
              "<video alt=\"test\" autoplay\n",
              "                loop controls style=\"height: 400px;\">\n",
              "                <source src=\"data:video/mp4;base64,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\" type=\"video/mp4\" />\n",
              "             </video>"
            ],
            "text/plain": [
              "<IPython.core.display.HTML object>"
            ]
          },
          "metadata": {},
          "output_type": "display_data"
        }
      ],
      "source": [
        "import glob\n",
        "import io\n",
        "import base64\n",
        "import imageio\n",
        "from IPython.display import HTML, display\n",
        "from gym.wrappers.monitoring.video_recorder import VideoRecorder\n",
        "\n",
        "def show_video_of_model(agent, env_name):\n",
        "    env = gym.make(env_name, render_mode='rgb_array')\n",
        "    state, _ = env.reset()\n",
        "    done = False\n",
        "    frames = []\n",
        "    while not done:\n",
        "        frame = env.render()\n",
        "        frames.append(frame)\n",
        "        action = agent.act(state)\n",
        "        state, reward, done, _, _ = env.step(action.item())\n",
        "    env.close()\n",
        "    imageio.mimsave('video.mp4', frames, fps=30)\n",
        "\n",
        "show_video_of_model(agent, 'LunarLander-v2')\n",
        "\n",
        "def show_video():\n",
        "    mp4list = glob.glob('*.mp4')\n",
        "    if len(mp4list) > 0:\n",
        "        mp4 = mp4list[0]\n",
        "        video = io.open(mp4, 'r+b').read()\n",
        "        encoded = base64.b64encode(video)\n",
        "        display(HTML(data='''<video alt=\"test\" autoplay\n",
        "                loop controls style=\"height: 400px;\">\n",
        "                <source src=\"data:video/mp4;base64,{0}\" type=\"video/mp4\" />\n",
        "             </video>'''.format(encoded.decode('ascii'))))\n",
        "    else:\n",
        "        print(\"Could not find video\")\n",
        "\n",
        "show_video()"
      ]
    }
  ],
  "metadata": {
    "colab": {
      "provenance": [],
      "include_colab_link": true
    },
    "kernelspec": {
      "display_name": "Python 3",
      "name": "python3"
    },
    "language_info": {
      "name": "python"
    }
  },
  "nbformat": 4,
  "nbformat_minor": 0
}